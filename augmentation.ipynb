{
 "cells": [
  {
   "cell_type": "code",
   "execution_count": 15,
   "source": [
    "import torch\n",
    "import pandas as pd\n",
    "import numpy as np\n",
    "import matplotlib.pyplot as plt\n",
    "from datetime import datetime\n",
    "from dateutil.relativedelta import relativedelta\n",
    "from tqdm import tqdm"
   ],
   "outputs": [],
   "metadata": {}
  },
  {
   "cell_type": "markdown",
   "source": [
    "## Data"
   ],
   "metadata": {}
  },
  {
   "cell_type": "code",
   "execution_count": 2,
   "source": [
    "df = pd.read_csv(\"/Users/tunglee/Desktop/Fubon-CNN/data/2330_Stock.csv\", encoding='utf-8', index_col=0)"
   ],
   "outputs": [],
   "metadata": {}
  },
  {
   "cell_type": "code",
   "execution_count": 3,
   "source": [
    "df.set_index('mdate', inplace=True)\n",
    "df = df['close_d']\n",
    "df"
   ],
   "outputs": [
    {
     "output_type": "execute_result",
     "data": {
      "text/plain": [
       "mdate\n",
       "1994-09-05     96.0\n",
       "1994-09-06    102.5\n",
       "1994-09-07    109.5\n",
       "1994-09-08    117.0\n",
       "1994-09-09    125.0\n",
       "              ...  \n",
       "2022-07-04    440.0\n",
       "2022-07-05    446.0\n",
       "2022-07-06    435.5\n",
       "2022-07-07    457.5\n",
       "2022-07-08    467.0\n",
       "Name: close_d, Length: 7071, dtype: float64"
      ]
     },
     "metadata": {},
     "execution_count": 3
    }
   ],
   "metadata": {}
  },
  {
   "cell_type": "markdown",
   "source": [
    "## Config"
   ],
   "metadata": {}
  },
  {
   "cell_type": "code",
   "execution_count": 12,
   "source": [
    "\"\"\"\n",
    "BASEDATE: 初始時間\n",
    "DURATION; 經過時間\n",
    "TRAINPATH: 訓練集資料夾路徑\n",
    "VAILDPATH\b: 測試集資料夾路徑\n",
    "\"\"\"\n",
    "BASEDATE = datetime.strptime('20210706', '%Y%m%d')\n",
    "DURATION = BASEDATE + relativedelta(days=30)\n",
    "TRAINPATH = \"imgs/train/\"\n",
    "VAILDPATH = \"imgs/val/\""
   ],
   "outputs": [],
   "metadata": {}
  },
  {
   "cell_type": "markdown",
   "source": [
    "## Plot"
   ],
   "metadata": {}
  },
  {
   "cell_type": "code",
   "execution_count": 5,
   "source": [
    "data = df[str(BASEDATE.date()): str(DURATION.date())]"
   ],
   "outputs": [],
   "metadata": {}
  },
  {
   "cell_type": "code",
   "execution_count": 6,
   "source": [
    "data.plot()"
   ],
   "outputs": [
    {
     "output_type": "execute_result",
     "data": {
      "text/plain": [
       "<AxesSubplot:xlabel='mdate'>"
      ]
     },
     "metadata": {},
     "execution_count": 6
    },
    {
     "output_type": "display_data",
     "data": {
      "image/png": "[encoded data removed]",
      "text/plain": [
       "<Figure size 432x288 with 1 Axes>"
      ]
     },
     "metadata": {
      "needs_background": "light"
     }
    }
   ],
   "metadata": {}
  },
  {
   "cell_type": "markdown",
   "source": [
    "# Augmentation 資料擴增 \n",
    "創造類似的趨勢\n",
    "- random.gauss(mu=0, sigma=img_M.std())"
   ],
   "metadata": {}
  },
  {
   "cell_type": "code",
   "execution_count": 7,
   "source": [
    "import random"
   ],
   "outputs": [],
   "metadata": {}
  },
  {
   "cell_type": "code",
   "execution_count": 8,
   "source": [
    "\"\"\"\n",
    "資料增量\n",
    "param:\n",
    "data: pd.DataFrame 要增量的時間序列資料\n",
    "weight: 變形的程度\n",
    "\"\"\"\n",
    "def augmentation(data, weight=3):\n",
    "    nums = []\n",
    "    for i in range(len(data)):\n",
    "        x = random.gauss(mu=0, sigma=data.std()/weight)\n",
    "        nums.append(x)\n",
    "    data_duplicated = data.copy()\n",
    "    data_duplicated += nums\n",
    "    return data_duplicated"
   ],
   "outputs": [],
   "metadata": {}
  },
  {
   "cell_type": "code",
   "execution_count": 9,
   "source": [
    "\"\"\"\n",
    "圖片儲存\n",
    "param:\n",
    "data: pd.DataFrame 要儲存的時間序列資料\n",
    "path: 儲存路徑\n",
    "name: 圖片名稱\n",
    "\"\"\"\n",
    "def saveImg(data, path, name):\n",
    "    plt.xticks([])\n",
    "    plt.yticks([])\n",
    "    img = plt.plot(data)\n",
    "    plt.savefig(path + name)\n",
    "    plt.cla()"
   ],
   "outputs": [],
   "metadata": {}
  },
  {
   "cell_type": "code",
   "execution_count": 16,
   "source": [
    "\"\"\"\n",
    "創建資料集\n",
    "param:\n",
    "data: pd.DataFrame 要增量的時間序列資料\n",
    "path: 儲存路徑\n",
    "label: 圖片標記\n",
    "nums: 要創建的圖片數量\n",
    "\"\"\"\n",
    "def createDataset(data, path, label, nums):\n",
    "    savePath = path + str(label) + '/' \n",
    "    for i in tqdm(range(nums)):\n",
    "        if label == 1:\n",
    "            weight=random.uniform(2.5, 4)\n",
    "            img = augmentation(data, weight)\n",
    "        else:\n",
    "            weight=random.uniform(0.3, 0.8)\n",
    "            img = augmentation(data, weight)\n",
    "        saveImg(img, savePath, f'{i}.png')\n",
    "        "
   ],
   "outputs": [],
   "metadata": {}
  },
  {
   "cell_type": "code",
   "execution_count": 17,
   "source": [
    "# 建立訓練資料集\n",
    "createDataset(data, TRAINPATH, label=1, nums=200)\n",
    "createDataset(data, VAILDPATH, label=1, nums=200)"
   ],
   "outputs": [
    {
     "output_type": "stream",
     "name": "stderr",
     "text": [
      "100%|██████████| 200/200 [00:14<00:00, 14.12it/s]\n",
      "100%|██████████| 200/200 [00:14<00:00, 13.67it/s]\n"
     ]
    },
    {
     "output_type": "display_data",
     "data": {
      "image/png": "[encoded data removed]",
      "text/plain": [
       "<Figure size 432x288 with 1 Axes>"
      ]
     },
     "metadata": {
      "needs_background": "light"
     }
    }
   ],
   "metadata": {}
  },
  {
   "cell_type": "code",
   "execution_count": 18,
   "source": [
    "# 建立驗證資料集\n",
    "createDataset(data, TRAINPATH, label=0, nums=50)\n",
    "createDataset(data, VAILDPATH, label=0, nums=50)"
   ],
   "outputs": [
    {
     "output_type": "stream",
     "name": "stderr",
     "text": [
      "100%|██████████| 50/50 [00:04<00:00, 12.28it/s]\n",
      "100%|██████████| 50/50 [00:03<00:00, 12.61it/s]\n"
     ]
    },
    {
     "output_type": "display_data",
     "data": {
      "image/png": "[encoded data removed]",
      "text/plain": [
       "<Figure size 432x288 with 1 Axes>"
      ]
     },
     "metadata": {
      "needs_background": "light"
     }
    }
   ],
   "metadata": {}
  }
 ],
 "metadata": {
  "orig_nbformat": 4,
  "language_info": {
   "name": "python",
   "version": "3.8.0",
   "mimetype": "text/x-python",
   "codemirror_mode": {
    "name": "ipython",
    "version": 3
   },
   "pygments_lexer": "ipython3",
   "nbconvert_exporter": "python",
   "file_extension": ".py"
  },
  "kernelspec": {
   "name": "python3",
   "display_name": "Python 3.8.0 64-bit ('ML': conda)"
  },
  "interpreter": {
   "hash": "5e5575e54d2513b32942376749bbe51512b8be1d3c3bddf16fb19d820e73e303"
  }
 },
 "nbformat": 4,
 "nbformat_minor": 2
}